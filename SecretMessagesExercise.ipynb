{
 "cells": [
  {
   "cell_type": "markdown",
   "metadata": {},
   "source": [
    "# Secrets Unlocked\n",
    "In this exercise you will have to do the following:\n",
    "1. Write a function that will extract the password from secretpassword.txt\n",
    "2. Use the secret password to unlock the list of files\n",
    "3. Build a decryption function to decrypt the messages within the files\n",
    "4. Print out the secret message within the files"
   ]
  },
  {
   "cell_type": "markdown",
   "metadata": {},
   "source": [
    "## Step 1: Get the password\n",
    "Write code to extract the password from the file 'secretpassword.txt' and store it in the variable called 'password'.\n",
    "Some lines within the file may have a '-' character in them. The letter before the character '-' is the password character.\n",
    "Connect all the password characters together to get the password"
   ]
  },
  {
   "cell_type": "code",
   "execution_count": 20,
   "metadata": {},
   "outputs": [
    {
     "name": "stdout",
     "output_type": "stream",
     "text": [
      "Cantcrackthis neeurualnitcosuu t;a\n"
     ]
    }
   ],
   "source": [
    "# Step 1\n",
    "password = ''\n",
    "def pasFinder(file):\n",
    "    password=\"\"\n",
    "    with open(file, \"r\") as f:\n",
    "        for line in f:\n",
    "            f.readline()\n",
    "            lineText=line\n",
    "            lineIndex=lineText.find(\"-\")\n",
    "            if not lineIndex == -1:\n",
    "                password+=lineText[lineIndex-1]\n",
    "        return password\n",
    "\n",
    "\n",
    "file=\"secretpassword.txt\"\n",
    "password=pasFinder(file)\n",
    "print(password)"
   ]
  },
  {
   "cell_type": "markdown",
   "metadata": {},
   "source": [
    "## Step 2: Unlock the files\n",
    "Test that you got the correct password now!\n",
    "Run the following code and see if you get 5 files within a folder called secretMessages.\n",
    "If you got all 5 files and no errors, you did it!"
   ]
  },
  {
   "cell_type": "code",
   "execution_count": 21,
   "metadata": {},
   "outputs": [
    {
     "name": "stdout",
     "output_type": "stream",
     "text": [
      "Collecting pyzipper\n",
      "  Obtaining dependency information for pyzipper from https://files.pythonhosted.org/packages/2d/b8/9d5d7cf4d96db8efa39f232fb152e87231fdaa5072229e6517f77a18d9c7/pyzipper-0.3.6-py2.py3-none-any.whl.metadata\n",
      "  Downloading pyzipper-0.3.6-py2.py3-none-any.whl.metadata (3.5 kB)\n",
      "Collecting pycryptodomex (from pyzipper)\n",
      "  Obtaining dependency information for pycryptodomex from https://files.pythonhosted.org/packages/5b/be/7c991840af1184009fc86267160948350d1bf875f153c97bb471ad944e40/pycryptodomex-3.21.0-cp36-abi3-win_amd64.whl.metadata\n",
      "  Downloading pycryptodomex-3.21.0-cp36-abi3-win_amd64.whl.metadata (3.4 kB)\n",
      "Downloading pyzipper-0.3.6-py2.py3-none-any.whl (67 kB)\n",
      "   ---------------------------------------- 0.0/67.7 kB ? eta -:--:--\n",
      "   ---------------------------------------- 67.7/67.7 kB 3.6 MB/s eta 0:00:00\n",
      "Downloading pycryptodomex-3.21.0-cp36-abi3-win_amd64.whl (1.8 MB)\n",
      "   ---------------------------------------- 0.0/1.8 MB ? eta -:--:--\n",
      "   ---------------- ----------------------- 0.7/1.8 MB 23.1 MB/s eta 0:00:01\n",
      "   ---------------------------------------- 1.8/1.8 MB 28.7 MB/s eta 0:00:00\n",
      "Installing collected packages: pycryptodomex, pyzipper\n",
      "Successfully installed pycryptodomex-3.21.0 pyzipper-0.3.6\n"
     ]
    },
    {
     "name": "stderr",
     "output_type": "stream",
     "text": [
      "\n",
      "[notice] A new release of pip is available: 23.2.1 -> 24.2\n",
      "[notice] To update, run: python.exe -m pip install --upgrade pip\n"
     ]
    },
    {
     "name": "stdout",
     "output_type": "stream",
     "text": [
      "Extracted all files to ./\n"
     ]
    }
   ],
   "source": [
    "# Step 2\n",
    "!pip install pyzipper\n",
    "import pyzipper\n",
    "\n",
    "def unzip_file(zip_file_path, output_folder, password):\n",
    "    # Open the ZIP file\n",
    "    with pyzipper.AESZipFile(zip_file_path) as zf:\n",
    "        # Provide the password\n",
    "        zf.pwd = password.encode('utf-8')\n",
    "        \n",
    "        # Extract all contents to the output folder\n",
    "        zf.extractall(output_folder)\n",
    "        print(f\"Extracted all files to {output_folder}\")\n",
    "\n",
    "# Example usage\n",
    "zip_file_path = 'secretMessages.zip'\n",
    "output_folder = './'\n",
    "\n",
    "unzip_file(zip_file_path, output_folder, password)\n"
   ]
  },
  {
   "cell_type": "markdown",
   "metadata": {},
   "source": [
    "## Step 3: Decrypt the files\n",
    "Now that you have the files, if you tried to read them, you probably noticed that they are full of gibberish.\n",
    "That's because they are encrypted.\n",
    "\n",
    "To decrypt them, you need to solve the following riddle and create:\n",
    "1. 2 ciphers\n",
    "2. A function to decrypt the messages\n",
    "\n",
    "Riddle:\n",
    "Every odd letter in the sentence is 2 forward.\n",
    "Every even letter in the sentence is 2 backwards.\n",
    "\n",
    "Example: Hi -> Jg"
   ]
  },
  {
   "cell_type": "code",
   "execution_count": null,
   "metadata": {},
   "outputs": [],
   "source": [
    "# Step 3\n",
    "\n",
    "secretMessage = ''"
   ]
  },
  {
   "cell_type": "markdown",
   "metadata": {},
   "source": [
    "## Step 4: Print the messages!\n",
    "Now that you have decrypted the files, it's time to print the hidden messages!"
   ]
  },
  {
   "cell_type": "code",
   "execution_count": null,
   "metadata": {},
   "outputs": [],
   "source": [
    "print(f\"Secret message: {secretMessage}\")"
   ]
  }
 ],
 "metadata": {
  "kernelspec": {
   "display_name": "Python 3",
   "language": "python",
   "name": "python3"
  },
  "language_info": {
   "codemirror_mode": {
    "name": "ipython",
    "version": 3
   },
   "file_extension": ".py",
   "mimetype": "text/x-python",
   "name": "python",
   "nbconvert_exporter": "python",
   "pygments_lexer": "ipython3",
   "version": "3.11.4"
  }
 },
 "nbformat": 4,
 "nbformat_minor": 2
}
